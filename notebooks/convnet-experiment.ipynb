{
 "cells": [
  {
   "cell_type": "code",
   "execution_count": 1,
   "metadata": {},
   "outputs": [],
   "source": [
    "# Import machine learning and dataset modules\n",
    "import torch\n",
    "import tarfile\n",
    "import os\n",
    "\n",
    "import torch.nn as nn\n",
    "import pandas as pd\n",
    "import numpy as np\n",
    "import torch.nn.functional as F\n",
    "import torchvision.transforms as transforms\n",
    "import matplotlib.pyplot as plt\n",
    "\n",
    "from pathlib import Path\n",
    "from torch.utils.data import Dataset, DataLoader, random_split"
   ]
  },
  {
   "cell_type": "code",
   "execution_count": 2,
   "metadata": {},
   "outputs": [],
   "source": [
    "# Enable PyTorch to use CUDA cores if they are avialable\n",
    "device = torch.device(\"cuda\" if torch.cuda.is_available() else \"cpu\")"
   ]
  },
  {
   "cell_type": "code",
   "execution_count": 3,
   "metadata": {},
   "outputs": [],
   "source": [
    "# Hyperparameters\n",
    "batch_size = 4"
   ]
  },
  {
   "cell_type": "code",
   "execution_count": 4,
   "metadata": {},
   "outputs": [],
   "source": [
    "class ToFractionTensor:\n",
    "    # Convert ndarrays to Tensors\n",
    "    def __call__(self, sample):\n",
    "        inputs, targets = sample\n",
    "        s = inputs[0].sum()\n",
    "        \n",
    "        inputs = np.divide(inputs, s)\n",
    "        \n",
    "        inputs[inputs < 0] = -1\n",
    "        \n",
    "        return torch.from_numpy(inputs), torch.from_numpy(targets)"
   ]
  },
  {
   "cell_type": "code",
   "execution_count": 9,
   "metadata": {},
   "outputs": [],
   "source": [
    "# Implement custom dataset loader for synthetic data\n",
    "class SyntheticDataset(Dataset):\n",
    "    def __init__(self, tar_path='datasets/synthetic-16:43:49.tar.gz', transform=None):\n",
    "        self.X = []\n",
    "        self.y = []\n",
    "        self.transform = transform\n",
    "        \n",
    "        with tarfile.open(tar_path) as tar:\n",
    "            for member in tar.getmembers():\n",
    "                if member.isfile():\n",
    "                    f = tar.extractfile(member)\n",
    "                    fn = member.name\n",
    "                    bn = os.path.basename(fn)\n",
    "                    uuid = os.path.basename(Path(fn).parent.parent) + os.path.basename(Path(fn).parent)\n",
    "                    df = pd.read_csv(f)\n",
    "                    \n",
    "                    # If filename is features.csv, append to y tensor\n",
    "                    if 'features.csv' in bn:\n",
    "                        df['network_name'] = [os.path.splitext(name)[0] for name in df['network_name']]\n",
    "                        df.drop(['population', 'backend'], axis=1, inplace=True)\n",
    "                        self.y.append(df)\n",
    "                        \n",
    "                    # If filename is timeseries.csv, append to X tensor\n",
    "                    if 'timeseries.csv' in bn:\n",
    "                        df['uuid'] = uuid\n",
    "                        self.X.append(df)\n",
    "        \n",
    "        self.y = pd.concat(self.y)\n",
    "        self.X = pd.concat(self.X)\n",
    "        \n",
    "        self.network_mapping = {k: v for v, k in enumerate(self.y['network_name'].unique())}\n",
    "        self.y['network_type'] = self.y['network_name'].map(self.network_mapping)\n",
    "        \n",
    "        self.y_data = self.y.drop(['network_name'], axis=1).to_numpy(dtype=np.float64)\n",
    "        \n",
    "        # Stackoverflow magic\n",
    "        g = self.X.groupby('uuid').cumcount()\n",
    "        self.X_data = (self.X.set_index(['uuid', g])\n",
    "            .unstack(fill_value=-1).stack()\n",
    "            .groupby(level=0)\n",
    "            .apply(lambda x: x.values.tolist())\n",
    "            .tolist())\n",
    "        \n",
    "        self.X_data = np.array(self.X_data, dtype=np.int)\n",
    "    \n",
    "    def __getitem__(self, index):\n",
    "        sample = self.X_data[index], self.y_data[index]\n",
    "        \n",
    "        if self.transform:\n",
    "            sample = self.transform(sample)\n",
    "        \n",
    "        return sample\n",
    "        \n",
    "    def __len__(self):\n",
    "        return len(self.y)"
   ]
  },
  {
   "cell_type": "code",
   "execution_count": 10,
   "metadata": {},
   "outputs": [],
   "source": [
    "# Design the convolutional neural network model to determine network_type\n",
    "class ConvnetNetworkClassifier(nn.Module):\n",
    "    def __init__(self, n_input_features=500, n_output_features=1):\n",
    "        super(ConvnetNetworkClassifier, self).__init__()\n",
    "        self.n_input_features = n_input_features\n",
    "        self.n_output_features = n_output_features\n",
    "    \n",
    "    def forward(self, X):\n",
    "        pass\n",
    "\n",
    "    def shape(self):\n",
    "        return self.n_input_features, self.n_output_features"
   ]
  },
  {
   "cell_type": "code",
   "execution_count": 67,
   "metadata": {},
   "outputs": [],
   "source": [
    "def plot_timeseries(ts):\n",
    "    ts = pd.DataFrame(ts[~np.all(ts == -1, axis=1)],\n",
    "                      columns=['susceptible', 'infected', 'recovered', 'dead'])\n",
    "    ts = pd.DataFrame(ts, columns=['susceptible', 'infected', 'recovered', 'dead'])\n",
    "    ts.plot()\n",
    "    plt.xlabel('days')\n",
    "    plt.ylabel('fraction')\n",
    "    plt.show()"
   ]
  },
  {
   "cell_type": "code",
   "execution_count": 65,
   "metadata": {},
   "outputs": [],
   "source": [
    "# Split up training, validation, and testing dataset\n",
    "whole_set = SyntheticDataset(transform=ToFractionTensor())\n",
    "\n",
    "l = len(whole_set)\n",
    "\n",
    "# training = 50%, validation = 20%, testing = 30%\n",
    "n_val = int(0.2*l)\n",
    "n_test = int(0.3*l)\n",
    "n_train = l - n_test - n_val\n",
    "\n",
    "train_set, val_set, test_set = random_split(whole_set, [n_train, n_val, n_test])"
   ]
  },
  {
   "cell_type": "code",
   "execution_count": 91,
   "metadata": {},
   "outputs": [
    {
     "data": {
      "image/png": "[encoded data removed]",
      "text/plain": [
       "<Figure size 432x288 with 1 Axes>"
      ]
     },
     "metadata": {
      "needs_background": "light"
     },
     "output_type": "display_data"
    },
    {
     "data": {
      "text/plain": [
       "(initial_infected            9\n",
       " network_name        WS-6-2000\n",
       " infectiousness       0.043908\n",
       " i_out                0.682962\n",
       " i_rec_prop           0.666092\n",
       " Name: 0, dtype: object,\n",
       " (501, 4),\n",
       " array([[9.955e-01, 4.500e-03, 0.000e+00, 0.000e+00],\n",
       "        [9.945e-01, 2.500e-03, 5.000e-04, 2.500e-03],\n",
       "        [9.915e-01, 2.500e-03, 1.000e-03, 5.000e-03],\n",
       "        [9.905e-01, 2.000e-03, 1.000e-03, 6.500e-03],\n",
       "        [9.880e-01, 2.000e-03, 3.000e-03, 7.000e-03],\n",
       "        [9.870e-01, 1.500e-03, 3.000e-03, 8.500e-03],\n",
       "        [9.855e-01, 1.500e-03, 4.000e-03, 9.000e-03],\n",
       "        [9.845e-01, 2.000e-03, 4.000e-03, 9.500e-03],\n",
       "        [9.820e-01, 3.000e-03, 4.000e-03, 1.100e-02],\n",
       "        [9.780e-01, 5.000e-03, 5.500e-03, 1.150e-02],\n",
       "        [9.745e-01, 4.500e-03, 6.500e-03, 1.450e-02],\n",
       "        [9.700e-01, 3.500e-03, 9.000e-03, 1.750e-02],\n",
       "        [9.660e-01, 4.500e-03, 1.000e-02, 1.950e-02],\n",
       "        [9.595e-01, 6.000e-03, 1.250e-02, 2.200e-02],\n",
       "        [9.510e-01, 7.000e-03, 1.600e-02, 2.600e-02],\n",
       "        [9.445e-01, 7.500e-03, 1.800e-02, 3.000e-02],\n",
       "        [9.375e-01, 8.000e-03, 2.000e-02, 3.450e-02],\n",
       "        [9.255e-01, 1.100e-02, 2.250e-02, 4.100e-02],\n",
       "        [9.130e-01, 1.100e-02, 2.650e-02, 4.950e-02],\n",
       "        [9.020e-01, 1.150e-02, 3.150e-02, 5.500e-02],\n",
       "        [8.890e-01, 1.350e-02, 3.450e-02, 6.300e-02],\n",
       "        [8.760e-01, 1.550e-02, 3.800e-02, 7.050e-02],\n",
       "        [8.585e-01, 1.550e-02, 4.500e-02, 8.100e-02],\n",
       "        [8.385e-01, 1.900e-02, 5.200e-02, 9.050e-02],\n",
       "        [8.165e-01, 2.400e-02, 5.850e-02, 1.010e-01],\n",
       "        [7.885e-01, 2.850e-02, 6.400e-02, 1.190e-01],\n",
       "        [7.615e-01, 2.500e-02, 7.200e-02, 1.415e-01],\n",
       "        [7.355e-01, 2.150e-02, 8.150e-02, 1.615e-01],\n",
       "        [7.055e-01, 2.750e-02, 8.900e-02, 1.780e-01],\n",
       "        [6.770e-01, 2.900e-02, 9.800e-02, 1.960e-01],\n",
       "        [6.425e-01, 4.150e-02, 1.055e-01, 2.105e-01],\n",
       "        [6.120e-01, 3.700e-02, 1.180e-01, 2.330e-01],\n",
       "        [5.765e-01, 4.350e-02, 1.280e-01, 2.520e-01],\n",
       "        [5.375e-01, 4.300e-02, 1.430e-01, 2.765e-01],\n",
       "        [4.935e-01, 4.900e-02, 1.545e-01, 3.030e-01],\n",
       "        [4.535e-01, 4.800e-02, 1.695e-01, 3.290e-01],\n",
       "        [4.105e-01, 4.750e-02, 1.835e-01, 3.585e-01],\n",
       "        [3.745e-01, 4.200e-02, 1.975e-01, 3.860e-01],\n",
       "        [3.355e-01, 3.950e-02, 2.090e-01, 4.160e-01],\n",
       "        [3.060e-01, 3.800e-02, 2.185e-01, 4.375e-01],\n",
       "        [2.685e-01, 3.550e-02, 2.370e-01, 4.590e-01],\n",
       "        [2.340e-01, 3.650e-02, 2.465e-01, 4.830e-01],\n",
       "        [2.070e-01, 3.750e-02, 2.555e-01, 5.000e-01],\n",
       "        [1.860e-01, 2.550e-02, 2.655e-01, 5.230e-01],\n",
       "        [1.595e-01, 2.500e-02, 2.755e-01, 5.400e-01],\n",
       "        [1.405e-01, 2.200e-02, 2.830e-01, 5.545e-01],\n",
       "        [1.220e-01, 2.200e-02, 2.900e-01, 5.660e-01],\n",
       "        [1.040e-01, 1.900e-02, 2.990e-01, 5.780e-01],\n",
       "        [8.600e-02, 2.100e-02, 3.045e-01, 5.885e-01],\n",
       "        [6.750e-02, 2.050e-02, 3.105e-01, 6.015e-01],\n",
       "        [5.500e-02, 1.850e-02, 3.180e-01, 6.085e-01],\n",
       "        [4.550e-02, 1.750e-02, 3.205e-01, 6.165e-01],\n",
       "        [3.750e-02, 1.200e-02, 3.255e-01, 6.250e-01],\n",
       "        [3.050e-02, 1.050e-02, 3.280e-01, 6.310e-01],\n",
       "        [2.600e-02, 8.000e-03, 3.290e-01, 6.370e-01],\n",
       "        [2.200e-02, 5.500e-03, 3.315e-01, 6.410e-01],\n",
       "        [1.650e-02, 6.000e-03, 3.325e-01, 6.450e-01],\n",
       "        [1.500e-02, 3.500e-03, 3.340e-01, 6.475e-01],\n",
       "        [1.300e-02, 2.500e-03, 3.350e-01, 6.495e-01],\n",
       "        [1.000e-02, 3.000e-03, 3.360e-01, 6.510e-01],\n",
       "        [8.000e-03, 2.500e-03, 3.365e-01, 6.530e-01],\n",
       "        [7.500e-03, 1.000e-03, 3.365e-01, 6.550e-01],\n",
       "        [5.500e-03, 1.000e-03, 3.365e-01, 6.570e-01],\n",
       "        [4.500e-03, 5.000e-04, 3.365e-01, 6.585e-01],\n",
       "        [2.000e-03, 2.000e-03, 3.365e-01, 6.595e-01],\n",
       "        [2.000e-03, 1.000e-03, 3.375e-01, 6.595e-01]]))"
      ]
     },
     "execution_count": 91,
     "metadata": {},
     "output_type": "execute_result"
    }
   ],
   "source": [
    "# Dataset number\n",
    "DSN = 2136\n",
    "\n",
    "# Plot data for sanity\n",
    "plot_timeseries(whole_set[DSN][0].numpy())\n",
    "\n",
    "# Print out parameters\n",
    "ts = whole_set[DSN][0].numpy()\n",
    "whole_set.y.iloc[DSN, :-1], whole_set.X_data.shape[1:], ts[~np.all(ts == -1, axis=1)]"
   ]
  },
  {
   "cell_type": "code",
   "execution_count": 406,
   "metadata": {},
   "outputs": [],
   "source": [
    "# Setup data loaders\n",
    "train_loader = DataLoader(train_set, batch_size=batch_size, shuffle=True)\n",
    "val_loader = DataLoader(val_set, batch_size=batch_size, shuffle=True)\n",
    "test_set = DataLoader(test_set, batch_size=batch_size, shuffle=False)"
   ]
  },
  {
   "cell_type": "code",
   "execution_count": 407,
   "metadata": {},
   "outputs": [
    {
     "data": {
      "text/plain": [
       "(500, 28)"
      ]
     },
     "execution_count": 407,
     "metadata": {},
     "output_type": "execute_result"
    }
   ],
   "source": [
    "# Number of input and output features\n",
    "n_input_features = whole_set.X_data.shape[1]\n",
    "n_output_features = len(whole_set.network_mapping)\n",
    "\n",
    "# Create convolutional multiclassifier for network type\n",
    "model = ConvnetNetworkClassifier(n_input_features=n_input_features,\n",
    "                                 n_output_features=n_output_features).to(device)\n",
    "\n",
    "model.shape()"
   ]
  },
  {
   "cell_type": "code",
   "execution_count": null,
   "metadata": {},
   "outputs": [],
   "source": []
  }
 ],
 "metadata": {
  "kernelspec": {
   "display_name": "Python 3",
   "language": "python",
   "name": "python3"
  },
  "language_info": {
   "codemirror_mode": {
    "name": "ipython",
    "version": 3
   },
   "file_extension": ".py",
   "mimetype": "text/x-python",
   "name": "python",
   "nbconvert_exporter": "python",
   "pygments_lexer": "ipython3",
   "version": "3.8.3"
  }
 },
 "nbformat": 4,
 "nbformat_minor": 4
}
