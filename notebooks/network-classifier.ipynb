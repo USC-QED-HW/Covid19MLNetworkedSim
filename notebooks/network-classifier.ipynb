{
 "cells": [
  {
   "cell_type": "code",
   "execution_count": 184,
   "metadata": {},
   "outputs": [],
   "source": [
    "# Import machine learning and dataset modules\n",
    "%matplotlib inline\n",
    "import torch\n",
    "import tarfile\n",
    "import os\n",
    "\n",
    "import torch.nn as nn\n",
    "import pandas as pd\n",
    "import numpy as np\n",
    "import torch.nn.functional as F\n",
    "import torchvision.transforms as transforms\n",
    "import matplotlib.pyplot as plt\n",
    "\n",
    "from pathlib import Path\n",
    "from torch.utils.data import Dataset, DataLoader, random_split"
   ]
  },
  {
   "cell_type": "code",
   "execution_count": 2,
   "metadata": {},
   "outputs": [],
   "source": [
    "# Enable PyTorch to use CUDA cores if they are avialable\n",
    "device = torch.device(\"cuda\" if torch.cuda.is_available() else \"cpu\")"
   ]
  },
  {
   "cell_type": "code",
   "execution_count": 3,
   "metadata": {},
   "outputs": [],
   "source": [
    "# Hyperparameters\n",
    "batch_size = 4"
   ]
  },
  {
   "cell_type": "code",
   "execution_count": 40,
   "metadata": {},
   "outputs": [],
   "source": [
    "# Implement custom dataset loader for synthetic data\n",
    "class SyntheticDataset(Dataset):\n",
    "    def __init__(self, tar_path='datasets/synthetic-19:04:19.tar.gz', transform=None):\n",
    "        self.X = []\n",
    "        self.y = []\n",
    "        self.transform = transform\n",
    "        \n",
    "        with tarfile.open(tar_path) as tar:\n",
    "            for member in tar.getmembers():\n",
    "                if member.isfile():\n",
    "                    f = tar.extractfile(member)\n",
    "                    fn = member.name\n",
    "                    bn = os.path.basename(fn)\n",
    "                    uuid = os.path.basename(Path(fn).parent.parent) + os.path.basename(Path(fn).parent)\n",
    "                    df = pd.read_csv(f)\n",
    "                    \n",
    "                    # If filename is features.csv, append to y tensor\n",
    "                    if 'features.csv' in bn:\n",
    "                        df['network_name'] = [os.path.splitext(name)[0] for name in df['network_name']]\n",
    "                        df.drop(['population', 'backend'], axis=1, inplace=True)\n",
    "                        self.y.append(df)\n",
    "                        \n",
    "                    # If filename is timeseries.csv, append to X tensor\n",
    "                    if 'timeseries.csv' in bn:\n",
    "                        df['uuid'] = uuid\n",
    "                        self.X.append(df)\n",
    "        \n",
    "        self.y = pd.concat(self.y)\n",
    "        self.X = pd.concat(self.X)\n",
    "        \n",
    "        self.network_mapping = {k: v for v, k in enumerate(self.y['network_name'].unique())}\n",
    "        self.y['network_type'] = self.y['network_name'].map(self.network_mapping)\n",
    "        \n",
    "        self.y_data = self.y.drop(['network_name'], axis=1).to_numpy(dtype=np.float64)\n",
    "        \n",
    "        # Stackoverflow magic\n",
    "        g = self.X.groupby('uuid').cumcount()\n",
    "        self.X_data = (self.X.set_index(['uuid', g])\n",
    "            .unstack(fill_value=-1).stack()\n",
    "            .groupby(level=0)\n",
    "            .apply(lambda x: x.values.tolist())\n",
    "            .tolist())\n",
    "        \n",
    "        self.X_data = np.array(self.X_data, dtype=np.int)\n",
    "    \n",
    "    def __getitem__(self, index):\n",
    "        inputs, targets = self.X_data[index], self.y_data[index]\n",
    "        s = inputs[0].sum()\n",
    "        inputs = np.divide(inputs, s)\n",
    "        inputs[inputs < 0] = -1\n",
    "        \n",
    "        sample = torch.from_numpy(inputs), torch.from_numpy(targets)\n",
    "        \n",
    "        if self.transform:\n",
    "            sample = self.transform(sample)\n",
    "        \n",
    "        return sample\n",
    "        \n",
    "    def __len__(self):\n",
    "        return len(self.y)"
   ]
  },
  {
   "cell_type": "code",
   "execution_count": 122,
   "metadata": {},
   "outputs": [],
   "source": [
    "def plot_synthetic(ts):\n",
    "    ts = pd.DataFrame(ts[~np.all(ts == -1, axis=1)],\n",
    "                      columns=['susceptible', 'infected', 'recovered', 'dead'])\n",
    "    ts = pd.DataFrame(ts, columns=['susceptible', 'infected', 'recovered', 'dead'])\n",
    "    ts.plot()\n",
    "    plt.xlabel('days')\n",
    "    plt.ylabel('fraction')\n",
    "    plt.show()\n",
    "    plt.clf()\n",
    "    plt.cla()\n",
    "    plt.close()"
   ]
  },
  {
   "cell_type": "code",
   "execution_count": 267,
   "metadata": {},
   "outputs": [],
   "source": [
    "def plot_historical(title, ts, to_file=False):\n",
    "    ts = pd.DataFrame(ts[~np.all(ts == -1, axis=1)],\n",
    "                      columns=['infected', 'dead'])\n",
    "    ts = pd.DataFrame(ts, columns=['infected', 'dead'])\n",
    "    # Set plot name to county name\n",
    "    ax= ts.plot()\n",
    "    fig = ax.get_figure()\n",
    "    t= plt.title(title)\n",
    "    x= plt.xlabel('days')\n",
    "    y= plt.ylabel('individuals')\n",
    "    \n",
    "    if to_file:\n",
    "        plt.savefig(title)\n",
    "    \n",
    "    plt.close(fig)\n",
    "    plt.clf()\n",
    "    plt.cla()\n",
    "    \n",
    "    if not to_file:\n",
    "        plt.show()"
   ]
  },
  {
   "cell_type": "code",
   "execution_count": 142,
   "metadata": {},
   "outputs": [],
   "source": [
    "# Split up training, validation, and testing dataset\n",
    "whole_set = SyntheticDataset()\n",
    "\n",
    "l = len(whole_set)\n",
    "\n",
    "# training = 50%, validation = 20%, testing = 30%\n",
    "n_val = int(0.2*l)\n",
    "n_test = int(0.3*l)\n",
    "n_train = l - n_test - n_val\n",
    "\n",
    "train_set, val_set, test_set = random_split(whole_set, [n_train, n_val, n_test])"
   ]
  },
  {
   "cell_type": "code",
   "execution_count": 143,
   "metadata": {},
   "outputs": [
    {
     "data": {
      "image/png": "[encoded data removed]",
      "text/plain": [
       "<Figure size 432x288 with 1 Axes>"
      ]
     },
     "metadata": {
      "needs_background": "light"
     },
     "output_type": "display_data"
    },
    {
     "data": {
      "text/plain": [
       "(initial_infected           10\n",
       " network_name        BA-4-4000\n",
       " infectiousness       0.106163\n",
       " i_out                0.709634\n",
       " i_rec_prop           0.916985\n",
       " Name: 0, dtype: object,\n",
       " (501, 4))"
      ]
     },
     "execution_count": 143,
     "metadata": {},
     "output_type": "execute_result"
    }
   ],
   "source": [
    "# Dataset number\n",
    "DSN = 232\n",
    "\n",
    "# Plot data for sanity\n",
    "plot_synthetic(whole_set[DSN][0].numpy())\n",
    "\n",
    "# Print out parameters\n",
    "ts = whole_set[DSN][0].numpy()\n",
    "whole_set.y.iloc[DSN, :-1], whole_set.X_data.shape[1:]"
   ]
  },
  {
   "cell_type": "code",
   "execution_count": 144,
   "metadata": {},
   "outputs": [],
   "source": [
    "class HistoricalDataset(Dataset):\n",
    "    def __init__(self, data_path='datasets/nyt.csv', transform=None):\n",
    "        self.transform = transform\n",
    "        self.X = dict()\n",
    "        self.X_data = []\n",
    "        \n",
    "        with open(data_path) as f:\n",
    "            df = pd.read_csv(f)\n",
    "            self.X = list(d[1] for d in df.groupby('county'))\n",
    "        \n",
    "        self.X_data = [None]*len(self.X)\n",
    "        \n",
    "        for i, v in enumerate(self.X):\n",
    "            self.X_data[i] = self.X[i].loc[:, 'cases':'deaths'].to_numpy()\n",
    "    \n",
    "    def __len__(self):\n",
    "        return len(self.X_data)\n",
    "    \n",
    "    def __getitem__(self, index):\n",
    "        return self.X_data[index]\n",
    "        "
   ]
  },
  {
   "cell_type": "code",
   "execution_count": 145,
   "metadata": {},
   "outputs": [],
   "source": [
    "historical_set = HistoricalDataset()"
   ]
  },
  {
   "cell_type": "code",
   "execution_count": 254,
   "metadata": {},
   "outputs": [
    {
     "data": {
      "image/png": "[encoded data removed]",
      "text/plain": [
       "<Figure size 432x288 with 1 Axes>"
      ]
     },
     "metadata": {
      "needs_background": "light"
     },
     "output_type": "display_data"
    },
    {
     "data": {
      "text/plain": [
       "(           fips        date      state county  cases  deaths\n",
       " 46193   13075.0  2020-03-30    Georgia   Cook      1       0\n",
       " 46194   13075.0  2020-03-31    Georgia   Cook      1       0\n",
       " 46195   13075.0  2020-04-01    Georgia   Cook      1       0\n",
       " 46196   13075.0  2020-04-02    Georgia   Cook      1       0\n",
       " 46197   13075.0  2020-04-03    Georgia   Cook      1       0\n",
       " ...         ...         ...        ...    ...    ...     ...\n",
       " 140578  27031.0  2020-07-09  Minnesota   Cook      1       0\n",
       " 140579  27031.0  2020-07-10  Minnesota   Cook      1       0\n",
       " 140580  27031.0  2020-07-11  Minnesota   Cook      1       0\n",
       " 140581  27031.0  2020-07-12  Minnesota   Cook      1       0\n",
       " 140582  27031.0  2020-07-13  Minnesota   Cook      1       0\n",
       " \n",
       " [309 rows x 6 columns],\n",
       " 1894)"
      ]
     },
     "execution_count": 254,
     "metadata": {},
     "output_type": "execute_result"
    }
   ],
   "source": [
    "# Dataset information\n",
    "DSN = 411\n",
    "# LA = 1018\n",
    "# COOK = 411\n",
    "\n",
    "# Plot historical data\n",
    "plot_historical(historical_set.X[DSN]['county'].iloc[0], historical_set[DSN])\n",
    "\n",
    "# Print county data\n",
    "historical_set.X[DSN], len(historical_set)"
   ]
  },
  {
   "cell_type": "code",
   "execution_count": 268,
   "metadata": {},
   "outputs": [
    {
     "name": "stdout",
     "output_type": "stream",
     "text": [
      "Using matplotlib backend: Qt5Agg\n"
     ]
    }
   ],
   "source": [
    "%matplotlib auto\n",
    "def save_historical(historical_set):\n",
    "    # Turn interactive plotting off\n",
    "    plt.ioff()\n",
    "    if not os.path.exists('datasets/county_plots'):\n",
    "        os.makedirs('datasets/county_plots/')\n",
    "    \n",
    "    for i in range(len(historical_set)):\n",
    "        e = historical_set[i]\n",
    "        n = historical_set.X[i]['county'].iloc[0]\n",
    "        plot_historical(f'datasets/county_plots/{n}.png', e, to_file=True)\n",
    "    \n",
    "    plt.ion()\n",
    "\n",
    "save_historical(historical_set)\n",
    "%matplotlib inline"
   ]
  },
  {
   "cell_type": "code",
   "execution_count": null,
   "metadata": {},
   "outputs": [],
   "source": []
  }
 ],
 "metadata": {
  "kernelspec": {
   "display_name": "Python 3",
   "language": "python",
   "name": "python3"
  },
  "language_info": {
   "codemirror_mode": {
    "name": "ipython",
    "version": 3
   },
   "file_extension": ".py",
   "mimetype": "text/x-python",
   "name": "python",
   "nbconvert_exporter": "python",
   "pygments_lexer": "ipython3",
   "version": "3.8.3"
  }
 },
 "nbformat": 4,
 "nbformat_minor": 4
}
