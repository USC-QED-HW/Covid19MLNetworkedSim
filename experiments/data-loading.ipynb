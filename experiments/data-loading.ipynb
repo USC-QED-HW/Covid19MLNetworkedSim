{
 "cells": [
  {
   "cell_type": "code",
   "execution_count": 58,
   "metadata": {},
   "outputs": [
    {
     "name": "stdout",
     "output_type": "stream",
     "text": [
      "The autoreload extension is already loaded. To reload it, use:\n",
      "  %reload_ext autoreload\n"
     ]
    }
   ],
   "source": [
    "%load_ext autoreload\n",
    "%autoreload 2\n",
    "\n",
    "from datasets import *\n",
    "import matplotlib.pyplot as plt\n",
    "import seaborn as sns"
   ]
  },
  {
   "cell_type": "code",
   "execution_count": 59,
   "metadata": {},
   "outputs": [],
   "source": [
    "# Import and time synthetic data\n",
    "X, y = import_synthetic()"
   ]
  },
  {
   "cell_type": "code",
   "execution_count": 60,
   "metadata": {},
   "outputs": [
    {
     "name": "stdout",
     "output_type": "stream",
     "text": [
      "466 ms ± 4.04 ms per loop (mean ± std. dev. of 7 runs, 1 loop each)\n"
     ]
    }
   ],
   "source": [
    "# Time how long it takes to import synthetic data\n",
    "%timeit import_synthetic()"
   ]
  },
  {
   "cell_type": "code",
   "execution_count": 61,
   "metadata": {},
   "outputs": [
    {
     "data": {
      "text/plain": [
       "(1200, 1200)"
      ]
     },
     "execution_count": 61,
     "metadata": {},
     "output_type": "execute_result"
    }
   ],
   "source": [
    "# Get dataset length\n",
    "len(X), len(y)"
   ]
  },
  {
   "cell_type": "code",
   "execution_count": 69,
   "metadata": {},
   "outputs": [],
   "source": [
    "# Set dataset number\n",
    "DSN = 90"
   ]
  },
  {
   "cell_type": "code",
   "execution_count": 70,
   "metadata": {},
   "outputs": [
    {
     "data": {
      "text/html": [
       "<div>\n",
       "<style scoped>\n",
       "    .dataframe tbody tr th:only-of-type {\n",
       "        vertical-align: middle;\n",
       "    }\n",
       "\n",
       "    .dataframe tbody tr th {\n",
       "        vertical-align: top;\n",
       "    }\n",
       "\n",
       "    .dataframe thead th {\n",
       "        text-align: right;\n",
       "    }\n",
       "</style>\n",
       "<table border=\"1\" class=\"dataframe\">\n",
       "  <thead>\n",
       "    <tr style=\"text-align: right;\">\n",
       "      <th></th>\n",
       "      <th>case</th>\n",
       "      <th>step</th>\n",
       "      <th>susceptible</th>\n",
       "      <th>c_infected</th>\n",
       "      <th>recovered</th>\n",
       "      <th>dead</th>\n",
       "    </tr>\n",
       "  </thead>\n",
       "  <tbody>\n",
       "    <tr>\n",
       "      <th>32897</th>\n",
       "      <td>BA-4-400015</td>\n",
       "      <td>0</td>\n",
       "      <td>3993</td>\n",
       "      <td>7</td>\n",
       "      <td>0</td>\n",
       "      <td>0</td>\n",
       "    </tr>\n",
       "    <tr>\n",
       "      <th>32898</th>\n",
       "      <td>BA-4-400015</td>\n",
       "      <td>1</td>\n",
       "      <td>3991</td>\n",
       "      <td>9</td>\n",
       "      <td>0</td>\n",
       "      <td>0</td>\n",
       "    </tr>\n",
       "    <tr>\n",
       "      <th>32899</th>\n",
       "      <td>BA-4-400015</td>\n",
       "      <td>2</td>\n",
       "      <td>3991</td>\n",
       "      <td>9</td>\n",
       "      <td>0</td>\n",
       "      <td>0</td>\n",
       "    </tr>\n",
       "    <tr>\n",
       "      <th>32900</th>\n",
       "      <td>BA-4-400015</td>\n",
       "      <td>3</td>\n",
       "      <td>3991</td>\n",
       "      <td>9</td>\n",
       "      <td>1</td>\n",
       "      <td>0</td>\n",
       "    </tr>\n",
       "    <tr>\n",
       "      <th>32901</th>\n",
       "      <td>BA-4-400015</td>\n",
       "      <td>4</td>\n",
       "      <td>3991</td>\n",
       "      <td>9</td>\n",
       "      <td>1</td>\n",
       "      <td>0</td>\n",
       "    </tr>\n",
       "  </tbody>\n",
       "</table>\n",
       "</div>"
      ],
      "text/plain": [
       "              case  step  susceptible  c_infected  recovered  dead\n",
       "32897  BA-4-400015     0         3993           7          0     0\n",
       "32898  BA-4-400015     1         3991           9          0     0\n",
       "32899  BA-4-400015     2         3991           9          0     0\n",
       "32900  BA-4-400015     3         3991           9          1     0\n",
       "32901  BA-4-400015     4         3991           9          1     0"
      ]
     },
     "execution_count": 70,
     "metadata": {},
     "output_type": "execute_result"
    }
   ],
   "source": [
    "X[DSN].head()"
   ]
  },
  {
   "cell_type": "code",
   "execution_count": 75,
   "metadata": {},
   "outputs": [
    {
     "data": {
      "image/png": "[encoded data removed]",
      "text/plain": [
       "<Figure size 432x288 with 1 Axes>"
      ]
     },
     "metadata": {
      "needs_background": "light"
     },
     "output_type": "display_data"
    },
    {
     "data": {
      "text/plain": [
       "case                BA-4-400015\n",
       "population                 4000\n",
       "initial_infected              7\n",
       "infectiousness         0.112404\n",
       "i_out                  0.217567\n",
       "i_rec_prop             0.545363\n",
       "network                      BA\n",
       "k                             4\n",
       "Name: 90, dtype: object"
      ]
     },
     "execution_count": 75,
     "metadata": {},
     "output_type": "execute_result"
    }
   ],
   "source": [
    "# Plot time series data\n",
    "ax_x = 'step'\n",
    "ax_y = ['susceptible', 'c_infected', 'recovered', 'dead']\n",
    "df = X[DSN][[ax_x] + ax_y]\n",
    "df.plot(x=ax_x)\n",
    "plt.show()\n",
    "\n",
    "# Show features\n",
    "y.iloc[DSN]"
   ]
  },
  {
   "cell_type": "code",
   "execution_count": 73,
   "metadata": {},
   "outputs": [
    {
     "data": {
      "text/plain": [
       "(array([[   0, 3993,    7,    0,    0],\n",
       "        [   1, 3991,    9,    0,    0],\n",
       "        [   2, 3991,    9,    0,    0],\n",
       "        ...,\n",
       "        [ 398,  426, 3574, 1920, 1609],\n",
       "        [ 399,  425, 3575, 1921, 1609],\n",
       "        [ 400,  425, 3575, 1921, 1609]]),\n",
       " array([3.        , 2.        , 0.11240377, 0.21756687, 0.54536277,\n",
       "        0.        , 0.        ]),\n",
       " dtype('int64'),\n",
       " dtype('float64'))"
      ]
     },
     "execution_count": 73,
     "metadata": {},
     "output_type": "execute_result"
    }
   ],
   "source": [
    "# Format X[DSN] and y[DSN] as ndarrays (to be passed to machine learning library)\n",
    "Xt, yt = synthetic_numpy(X, y)\n",
    "\n",
    "Xt[DSN], yt[DSN], Xt[DSN].dtype, yt[DSN].dtype"
   ]
  },
  {
   "cell_type": "code",
   "execution_count": 67,
   "metadata": {},
   "outputs": [
    {
     "name": "stdout",
     "output_type": "stream",
     "text": [
      "183 ms ± 5.78 ms per loop (mean ± std. dev. of 7 runs, 10 loops each)\n"
     ]
    }
   ],
   "source": [
    "# Time how long synthetic_numpy takes\n",
    "%timeit synthetic_numpy(X, y)"
   ]
  },
  {
   "cell_type": "code",
   "execution_count": 76,
   "metadata": {},
   "outputs": [
    {
     "name": "stdout",
     "output_type": "stream",
     "text": [
      "185 µs ± 2.91 µs per loop (mean ± std. dev. of 7 runs, 10000 loops each)\n"
     ]
    }
   ],
   "source": [
    "# Time how long it takes to iterate through whole dataset\n",
    "%timeit for x, y in zip(Xt, yt): pass"
   ]
  },
  {
   "cell_type": "code",
   "execution_count": null,
   "metadata": {},
   "outputs": [],
   "source": []
  }
 ],
 "metadata": {
  "kernelspec": {
   "display_name": "Python 3",
   "language": "python",
   "name": "python3"
  },
  "language_info": {
   "codemirror_mode": {
    "name": "ipython",
    "version": 3
   },
   "file_extension": ".py",
   "mimetype": "text/x-python",
   "name": "python",
   "nbconvert_exporter": "python",
   "pygments_lexer": "ipython3",
   "version": "3.8.3"
  }
 },
 "nbformat": 4,
 "nbformat_minor": 4
}
