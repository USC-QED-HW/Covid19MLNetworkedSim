{
 "cells": [
  {
   "cell_type": "code",
   "execution_count": 84,
   "metadata": {},
   "outputs": [
    {
     "name": "stdout",
     "output_type": "stream",
     "text": [
      "The autoreload extension is already loaded. To reload it, use:\n",
      "  %reload_ext autoreload\n"
     ]
    }
   ],
   "source": [
    "%load_ext autoreload\n",
    "%autoreload 2\n",
    "\n",
    "from datasets import *\n",
    "import matplotlib.pyplot as plt\n",
    "import numpy as np"
   ]
  },
  {
   "cell_type": "code",
   "execution_count": 85,
   "metadata": {},
   "outputs": [],
   "source": [
    "# Import and time synthetic data\n",
    "X, y = import_synthetic()"
   ]
  },
  {
   "cell_type": "code",
   "execution_count": 86,
   "metadata": {},
   "outputs": [
    {
     "name": "stdout",
     "output_type": "stream",
     "text": [
      "498 ms ± 8.19 ms per loop (mean ± std. dev. of 7 runs, 1 loop each)\n"
     ]
    }
   ],
   "source": [
    "# Time how long it takes to import synthetic data\n",
    "%timeit import_synthetic()"
   ]
  },
  {
   "cell_type": "code",
   "execution_count": 87,
   "metadata": {},
   "outputs": [
    {
     "data": {
      "text/plain": [
       "(1200, 1200)"
      ]
     },
     "execution_count": 87,
     "metadata": {},
     "output_type": "execute_result"
    }
   ],
   "source": [
    "# Get dataset length\n",
    "len(X), len(y)"
   ]
  },
  {
   "cell_type": "code",
   "execution_count": 88,
   "metadata": {},
   "outputs": [],
   "source": [
    "# Set dataset number\n",
    "DSN = 40"
   ]
  },
  {
   "cell_type": "code",
   "execution_count": 89,
   "metadata": {},
   "outputs": [
    {
     "data": {
      "text/html": [
       "<div>\n",
       "<style scoped>\n",
       "    .dataframe tbody tr th:only-of-type {\n",
       "        vertical-align: middle;\n",
       "    }\n",
       "\n",
       "    .dataframe tbody tr th {\n",
       "        vertical-align: top;\n",
       "    }\n",
       "\n",
       "    .dataframe thead th {\n",
       "        text-align: right;\n",
       "    }\n",
       "</style>\n",
       "<table border=\"1\" class=\"dataframe\">\n",
       "  <thead>\n",
       "    <tr style=\"text-align: right;\">\n",
       "      <th></th>\n",
       "      <th>case</th>\n",
       "      <th>step</th>\n",
       "      <th>susceptible</th>\n",
       "      <th>c_infected</th>\n",
       "      <th>recovered</th>\n",
       "      <th>dead</th>\n",
       "    </tr>\n",
       "    <tr>\n",
       "      <th>step</th>\n",
       "      <th></th>\n",
       "      <th></th>\n",
       "      <th></th>\n",
       "      <th></th>\n",
       "      <th></th>\n",
       "      <th></th>\n",
       "    </tr>\n",
       "  </thead>\n",
       "  <tbody>\n",
       "    <tr>\n",
       "      <th>0</th>\n",
       "      <td>BA-4-100015</td>\n",
       "      <td>0</td>\n",
       "      <td>998</td>\n",
       "      <td>2</td>\n",
       "      <td>0</td>\n",
       "      <td>0</td>\n",
       "    </tr>\n",
       "    <tr>\n",
       "      <th>1</th>\n",
       "      <td>BA-4-100015</td>\n",
       "      <td>1</td>\n",
       "      <td>998</td>\n",
       "      <td>2</td>\n",
       "      <td>0</td>\n",
       "      <td>0</td>\n",
       "    </tr>\n",
       "    <tr>\n",
       "      <th>2</th>\n",
       "      <td>BA-4-100015</td>\n",
       "      <td>2</td>\n",
       "      <td>998</td>\n",
       "      <td>2</td>\n",
       "      <td>0</td>\n",
       "      <td>0</td>\n",
       "    </tr>\n",
       "    <tr>\n",
       "      <th>3</th>\n",
       "      <td>BA-4-100015</td>\n",
       "      <td>3</td>\n",
       "      <td>998</td>\n",
       "      <td>2</td>\n",
       "      <td>0</td>\n",
       "      <td>0</td>\n",
       "    </tr>\n",
       "    <tr>\n",
       "      <th>4</th>\n",
       "      <td>BA-4-100015</td>\n",
       "      <td>4</td>\n",
       "      <td>998</td>\n",
       "      <td>2</td>\n",
       "      <td>0</td>\n",
       "      <td>0</td>\n",
       "    </tr>\n",
       "  </tbody>\n",
       "</table>\n",
       "</div>"
      ],
      "text/plain": [
       "             case  step  susceptible  c_infected  recovered  dead\n",
       "step                                                             \n",
       "0     BA-4-100015     0          998           2          0     0\n",
       "1     BA-4-100015     1          998           2          0     0\n",
       "2     BA-4-100015     2          998           2          0     0\n",
       "3     BA-4-100015     3          998           2          0     0\n",
       "4     BA-4-100015     4          998           2          0     0"
      ]
     },
     "execution_count": 89,
     "metadata": {},
     "output_type": "execute_result"
    }
   ],
   "source": [
    "X[DSN].head()"
   ]
  },
  {
   "cell_type": "code",
   "execution_count": 90,
   "metadata": {},
   "outputs": [
    {
     "data": {
      "text/html": [
       "<div>\n",
       "<style scoped>\n",
       "    .dataframe tbody tr th:only-of-type {\n",
       "        vertical-align: middle;\n",
       "    }\n",
       "\n",
       "    .dataframe tbody tr th {\n",
       "        vertical-align: top;\n",
       "    }\n",
       "\n",
       "    .dataframe thead th {\n",
       "        text-align: right;\n",
       "    }\n",
       "</style>\n",
       "<table border=\"1\" class=\"dataframe\">\n",
       "  <thead>\n",
       "    <tr style=\"text-align: right;\">\n",
       "      <th></th>\n",
       "      <th>case</th>\n",
       "      <th>step</th>\n",
       "      <th>susceptible</th>\n",
       "      <th>c_infected</th>\n",
       "      <th>recovered</th>\n",
       "      <th>dead</th>\n",
       "    </tr>\n",
       "    <tr>\n",
       "      <th>step</th>\n",
       "      <th></th>\n",
       "      <th></th>\n",
       "      <th></th>\n",
       "      <th></th>\n",
       "      <th></th>\n",
       "      <th></th>\n",
       "    </tr>\n",
       "  </thead>\n",
       "  <tbody>\n",
       "    <tr>\n",
       "      <th>295</th>\n",
       "      <td>BA-4-100015</td>\n",
       "      <td>295</td>\n",
       "      <td>100</td>\n",
       "      <td>900</td>\n",
       "      <td>755</td>\n",
       "      <td>143</td>\n",
       "    </tr>\n",
       "    <tr>\n",
       "      <th>296</th>\n",
       "      <td>BA-4-100015</td>\n",
       "      <td>296</td>\n",
       "      <td>100</td>\n",
       "      <td>900</td>\n",
       "      <td>755</td>\n",
       "      <td>143</td>\n",
       "    </tr>\n",
       "    <tr>\n",
       "      <th>297</th>\n",
       "      <td>BA-4-100015</td>\n",
       "      <td>297</td>\n",
       "      <td>100</td>\n",
       "      <td>900</td>\n",
       "      <td>755</td>\n",
       "      <td>143</td>\n",
       "    </tr>\n",
       "    <tr>\n",
       "      <th>298</th>\n",
       "      <td>BA-4-100015</td>\n",
       "      <td>298</td>\n",
       "      <td>100</td>\n",
       "      <td>900</td>\n",
       "      <td>756</td>\n",
       "      <td>143</td>\n",
       "    </tr>\n",
       "    <tr>\n",
       "      <th>299</th>\n",
       "      <td>BA-4-100015</td>\n",
       "      <td>299</td>\n",
       "      <td>100</td>\n",
       "      <td>900</td>\n",
       "      <td>756</td>\n",
       "      <td>144</td>\n",
       "    </tr>\n",
       "  </tbody>\n",
       "</table>\n",
       "</div>"
      ],
      "text/plain": [
       "             case  step  susceptible  c_infected  recovered  dead\n",
       "step                                                             \n",
       "295   BA-4-100015   295          100         900        755   143\n",
       "296   BA-4-100015   296          100         900        755   143\n",
       "297   BA-4-100015   297          100         900        755   143\n",
       "298   BA-4-100015   298          100         900        756   143\n",
       "299   BA-4-100015   299          100         900        756   144"
      ]
     },
     "execution_count": 90,
     "metadata": {},
     "output_type": "execute_result"
    }
   ],
   "source": [
    "X[DSN].tail()"
   ]
  },
  {
   "cell_type": "code",
   "execution_count": 91,
   "metadata": {},
   "outputs": [
    {
     "data": {
      "image/png": "[encoded data removed]",
      "text/plain": [
       "<Figure size 432x288 with 1 Axes>"
      ]
     },
     "metadata": {
      "needs_background": "light"
     },
     "output_type": "display_data"
    },
    {
     "data": {
      "text/plain": [
       "case                BA-4-100015\n",
       "population                 1000\n",
       "initial_infected              2\n",
       "infectiousness         0.220911\n",
       "i_out                  0.626007\n",
       "i_rec_prop              0.82412\n",
       "network                      BA\n",
       "k                             4\n",
       "Name: 40, dtype: object"
      ]
     },
     "execution_count": 91,
     "metadata": {},
     "output_type": "execute_result"
    }
   ],
   "source": [
    "# Plot time series data\n",
    "ax_y = ['susceptible', 'c_infected', 'recovered', 'dead']\n",
    "X[DSN].plot(y=ax_y, use_index=True)\n",
    "plt.show()\n",
    "\n",
    "# Show features\n",
    "y.iloc[DSN]"
   ]
  },
  {
   "cell_type": "code",
   "execution_count": 92,
   "metadata": {},
   "outputs": [
    {
     "data": {
      "text/plain": [
       "(array([[  0, 998,   2,   0,   0],\n",
       "        [  1, 998,   2,   0,   0],\n",
       "        [  2, 998,   2,   0,   0],\n",
       "        ...,\n",
       "        [297, 100, 900, 755, 143],\n",
       "        [298, 100, 900, 756, 143],\n",
       "        [299, 100, 900, 756, 144]]),\n",
       " array([1.        , 0.        , 0.22091058, 0.62600727, 0.82412023,\n",
       "        0.        , 0.        ]),\n",
       " dtype('int64'),\n",
       " dtype('float64'))"
      ]
     },
     "execution_count": 92,
     "metadata": {},
     "output_type": "execute_result"
    }
   ],
   "source": [
    "# Format X[DSN] and y[DSN] as ndarrays (to be passed to machine learning library)\n",
    "Xn, yn = synthetic_numpy(X, y)\n",
    "\n",
    "Xn[DSN], yn[DSN], Xn[DSN].dtype, yn[DSN].dtype"
   ]
  },
  {
   "cell_type": "code",
   "execution_count": 93,
   "metadata": {},
   "outputs": [
    {
     "name": "stdout",
     "output_type": "stream",
     "text": [
      "187 ms ± 4.99 ms per loop (mean ± std. dev. of 7 runs, 10 loops each)\n"
     ]
    }
   ],
   "source": [
    "# Time how long synthetic_numpy takes\n",
    "%timeit synthetic_numpy(X, y)"
   ]
  },
  {
   "cell_type": "code",
   "execution_count": 94,
   "metadata": {},
   "outputs": [
    {
     "name": "stdout",
     "output_type": "stream",
     "text": [
      "210 µs ± 2.04 µs per loop (mean ± std. dev. of 7 runs, 1000 loops each)\n"
     ]
    }
   ],
   "source": [
    "# Time how long it takes to iterate through whole dataset\n",
    "%timeit for x, y in zip(Xn, yn): pass"
   ]
  },
  {
   "cell_type": "code",
   "execution_count": 95,
   "metadata": {},
   "outputs": [
    {
     "data": {
      "text/plain": [
       "(1200, 401, 5)"
      ]
     },
     "execution_count": 95,
     "metadata": {},
     "output_type": "execute_result"
    }
   ],
   "source": [
    "Xrs = resample_lengths(Xn)\n",
    "Xrs.shape"
   ]
  },
  {
   "cell_type": "code",
   "execution_count": 83,
   "metadata": {},
   "outputs": [
    {
     "data": {
      "text/plain": [
       "array([[0.000000e+00, 9.980000e+02, 2.000000e+00, 0.000000e+00,\n",
       "        0.000000e+00],\n",
       "       [7.475000e-01, 9.980000e+02, 2.000000e+00, 0.000000e+00,\n",
       "        0.000000e+00],\n",
       "       [1.495000e+00, 9.980000e+02, 2.000000e+00, 0.000000e+00,\n",
       "        0.000000e+00],\n",
       "       ...,\n",
       "       [2.975050e+02, 1.000000e+02, 9.000000e+02, 7.555050e+02,\n",
       "        1.430000e+02],\n",
       "       [2.982525e+02, 1.000000e+02, 9.000000e+02, 7.560000e+02,\n",
       "        1.432525e+02],\n",
       "       [2.990000e+02, 1.000000e+02, 9.000000e+02, 7.560000e+02,\n",
       "        1.440000e+02]])"
      ]
     },
     "execution_count": 83,
     "metadata": {},
     "output_type": "execute_result"
    }
   ],
   "source": [
    "def plot_numpy(xs: np.ndarray):\n",
    "    ax_x = 'step'\n",
    "    ax_y = ['susceptible', 'c_infected', 'recovered', 'dead']\n",
    "    df = pd.DataFrame(columns=[ax_x] + ax_y)\n",
    "    df.plot(y=ax_y, x=ax_x)\n",
    "    plt.show()"
   ]
  },
  {
   "cell_type": "code",
   "execution_count": null,
   "metadata": {},
   "outputs": [],
   "source": []
  }
 ],
 "metadata": {
  "kernelspec": {
   "display_name": "Python 3",
   "language": "python",
   "name": "python3"
  },
  "language_info": {
   "codemirror_mode": {
    "name": "ipython",
    "version": 3
   },
   "file_extension": ".py",
   "mimetype": "text/x-python",
   "name": "python",
   "nbconvert_exporter": "python",
   "pygments_lexer": "ipython3",
   "version": "3.8.3"
  }
 },
 "nbformat": 4,
 "nbformat_minor": 4
}
